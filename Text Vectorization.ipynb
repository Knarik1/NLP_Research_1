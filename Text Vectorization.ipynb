{
 "cells": [
  {
   "cell_type": "code",
   "execution_count": 311,
   "metadata": {},
   "outputs": [],
   "source": [
    "import nltk\n",
    "import string\n",
    "import numpy as np\n",
    "import pandas as pd\n",
    "import nltk\n",
    "\n",
    "from collections import defaultdict\n",
    "from collections import Counter"
   ]
  },
  {
   "cell_type": "code",
   "execution_count": 7,
   "metadata": {},
   "outputs": [],
   "source": [
    "def tokenize(text):\n",
    "    stem = nltk.stem.SnowballStemmer('english')\n",
    "    text = text.lower()\n",
    "    for token in nltk.word_tokenize(text):\n",
    "        if token in string.punctuation: continue\n",
    "        yield stem.stem(token)\n",
    "\n",
    "   "
   ]
  },
  {
   "cell_type": "code",
   "execution_count": 272,
   "metadata": {},
   "outputs": [],
   "source": [
    " corpus = [\n",
    "    \"The elephant sneezed at the sight of potatoes as promised.\",\n",
    "    \"Bats can see via echolocation. See the bat sight sneeze!\",\n",
    "    \"Wondering, she opened the door to the studio.\",\n",
    "    ]"
   ]
  },
  {
   "cell_type": "code",
   "execution_count": 40,
   "metadata": {},
   "outputs": [],
   "source": [
    "labels = np.array([1,2,1])"
   ]
  },
  {
   "cell_type": "markdown",
   "metadata": {},
   "source": [
    "### 4 types of vector encoding<br>\n",
    "1) frequency,<br>\n",
    "2) one-hot, <br>\n",
    "3) TF–IDF, <br>\n",
    "4) distributed representations"
   ]
  },
  {
   "cell_type": "markdown",
   "metadata": {},
   "source": [
    "### 3 approaches<br>\n",
    "1) NLTK<br>\n",
    "2) Scikit-Learn,<br>\n",
    "3) Gensim"
   ]
  },
  {
   "cell_type": "markdown",
   "metadata": {},
   "source": [
    "# 1.Frequency Vectors"
   ]
  },
  {
   "cell_type": "markdown",
   "metadata": {},
   "source": [
    "Because they disregard grammar and the relative position of words in documents,\n",
    "frequency-based encoding methods suffer from the long tail, or Zipfian distribution,\n",
    "that characterizes natural language. As a result, tokens that occur very frequently are\n",
    "orders of magnitude more “significant” than other, less frequent ones. This can have a\n",
    "significant impact on some models (e.g., generalized linear models) that expect nor‐\n",
    "mally distributed features."
   ]
  },
  {
   "cell_type": "markdown",
   "metadata": {},
   "source": [
    "## Vectorization with {}, defaultdict, Counter"
   ]
  },
  {
   "cell_type": "code",
   "execution_count": 50,
   "metadata": {},
   "outputs": [],
   "source": [
    "# naive implemetation using dict\n",
    "def vectorize_dict_with_labels(corpus, labels):\n",
    "    freqs = {}\n",
    "    for l, doc in zip(labels, corpus):\n",
    "        for token in tokenize(doc):\n",
    "            pair = (token, l)\n",
    "            if pair in freqs:\n",
    "                freqs[pair] += 1\n",
    "            else:\n",
    "                freqs[pair] = 1\n",
    "\n",
    "    return freqs"
   ]
  },
  {
   "cell_type": "code",
   "execution_count": 51,
   "metadata": {
    "scrolled": true
   },
   "outputs": [
    {
     "data": {
      "text/plain": [
       "{('as', 1): 1,\n",
       " ('at', 1): 1,\n",
       " ('bat', 2): 2,\n",
       " ('can', 2): 1,\n",
       " ('door', 1): 1,\n",
       " ('echoloc', 2): 1,\n",
       " ('eleph', 1): 1,\n",
       " ('of', 1): 1,\n",
       " ('open', 1): 1,\n",
       " ('potato', 1): 1,\n",
       " ('promis', 1): 1,\n",
       " ('see', 2): 2,\n",
       " ('she', 1): 1,\n",
       " ('sight', 1): 1,\n",
       " ('sight', 2): 1,\n",
       " ('sneez', 1): 1,\n",
       " ('sneez', 2): 1,\n",
       " ('studio', 1): 1,\n",
       " ('the', 1): 4,\n",
       " ('the', 2): 1,\n",
       " ('to', 1): 1,\n",
       " ('via', 2): 1,\n",
       " ('wonder', 1): 1}"
      ]
     },
     "execution_count": 51,
     "metadata": {},
     "output_type": "execute_result"
    }
   ],
   "source": [
    "vectorize_dict_with_labels(corpus, labels)"
   ]
  },
  {
   "cell_type": "code",
   "execution_count": 88,
   "metadata": {},
   "outputs": [],
   "source": [
    "# naive implemetation using dict\n",
    "def vectorize_dict(doc):\n",
    "    freqs = {}\n",
    "    for token in tokenize(doc):\n",
    "        if token in freqs:\n",
    "            freqs[token] += 1\n",
    "        else:\n",
    "            freqs[token] = 1\n",
    "\n",
    "    return freqs"
   ]
  },
  {
   "cell_type": "code",
   "execution_count": 89,
   "metadata": {
    "scrolled": true
   },
   "outputs": [
    {
     "data": {
      "text/plain": [
       "{'as': 1,\n",
       " 'at': 1,\n",
       " 'eleph': 1,\n",
       " 'of': 1,\n",
       " 'potato': 1,\n",
       " 'promis': 1,\n",
       " 'sight': 1,\n",
       " 'sneez': 1,\n",
       " 'the': 2}"
      ]
     },
     "execution_count": 89,
     "metadata": {},
     "output_type": "execute_result"
    }
   ],
   "source": [
    "vectorize_dict(corpus[0])"
   ]
  },
  {
   "cell_type": "code",
   "execution_count": 91,
   "metadata": {},
   "outputs": [
    {
     "ename": "KeyError",
     "evalue": "'ddd'",
     "output_type": "error",
     "traceback": [
      "\u001b[0;31m---------------------------------------------------------------------------\u001b[0m",
      "\u001b[0;31mKeyError\u001b[0m                                  Traceback (most recent call last)",
      "\u001b[0;32m<ipython-input-91-409c42a285da>\u001b[0m in \u001b[0;36m<module>\u001b[0;34m\u001b[0m\n\u001b[1;32m      1\u001b[0m \u001b[0;31m# bad method\u001b[0m\u001b[0;34m\u001b[0m\u001b[0;34m\u001b[0m\u001b[0m\n\u001b[0;32m----> 2\u001b[0;31m \u001b[0mvectorize_dict\u001b[0m\u001b[0;34m(\u001b[0m\u001b[0mcorpus\u001b[0m\u001b[0;34m[\u001b[0m\u001b[0;36m0\u001b[0m\u001b[0;34m]\u001b[0m\u001b[0;34m)\u001b[0m\u001b[0;34m[\u001b[0m\u001b[0;34m\"ddd\"\u001b[0m\u001b[0;34m]\u001b[0m\u001b[0;34m\u001b[0m\u001b[0m\n\u001b[0m",
      "\u001b[0;31mKeyError\u001b[0m: 'ddd'"
     ]
    }
   ],
   "source": [
    "# bad method\n",
    "vectorize_dict(corpus[0])[\"ddd\"]"
   ]
  },
  {
   "cell_type": "code",
   "execution_count": 48,
   "metadata": {},
   "outputs": [],
   "source": [
    "def vectorize_defaultdict(doc):\n",
    "    freqs = defaultdict(int)\n",
    "    for token in tokenize(doc):\n",
    "        freqs[token] += 1\n",
    "    return freqs    "
   ]
  },
  {
   "cell_type": "code",
   "execution_count": 92,
   "metadata": {
    "scrolled": true
   },
   "outputs": [
    {
     "data": {
      "text/plain": [
       "defaultdict(int,\n",
       "            {'as': 1,\n",
       "             'at': 1,\n",
       "             'eleph': 1,\n",
       "             'of': 1,\n",
       "             'potato': 1,\n",
       "             'promis': 1,\n",
       "             'sight': 1,\n",
       "             'sneez': 1,\n",
       "             'the': 2})"
      ]
     },
     "execution_count": 92,
     "metadata": {},
     "output_type": "execute_result"
    }
   ],
   "source": [
    "# bad method as doc lengths can be different\n",
    "# solve problem of dict for None keys\n",
    "# hard to get most_common words, needs to be sorted and cut the top\n",
    "# also you have to count freqs by +1\n",
    "vectorize_defaultdict(corpus[0])"
   ]
  },
  {
   "cell_type": "code",
   "execution_count": 93,
   "metadata": {},
   "outputs": [
    {
     "data": {
      "text/plain": [
       "0"
      ]
     },
     "execution_count": 93,
     "metadata": {},
     "output_type": "execute_result"
    }
   ],
   "source": [
    "vectorize_defaultdict(corpus[0])['ddddd']"
   ]
  },
  {
   "cell_type": "code",
   "execution_count": 94,
   "metadata": {},
   "outputs": [
    {
     "data": {
      "text/plain": [
       "['sneez', 'the']"
      ]
     },
     "execution_count": 94,
     "metadata": {},
     "output_type": "execute_result"
    }
   ],
   "source": [
    "# most frequent 2\n",
    "sorted(vectorize_defaultdict(corpus[0]))[-2:]"
   ]
  },
  {
   "cell_type": "code",
   "execution_count": 116,
   "metadata": {},
   "outputs": [
    {
     "ename": "TypeError",
     "evalue": "first argument must be callable or None",
     "output_type": "error",
     "traceback": [
      "\u001b[0;31m---------------------------------------------------------------------------\u001b[0m",
      "\u001b[0;31mTypeError\u001b[0m                                 Traceback (most recent call last)",
      "\u001b[0;32m<ipython-input-116-4c1a7ac3a213>\u001b[0m in \u001b[0;36m<module>\u001b[0;34m\u001b[0m\n\u001b[1;32m      1\u001b[0m \u001b[0;31m# can't create directly from token_array\u001b[0m\u001b[0;34m\u001b[0m\u001b[0;34m\u001b[0m\u001b[0m\n\u001b[0;32m----> 2\u001b[0;31m \u001b[0mdefaultdict\u001b[0m\u001b[0;34m(\u001b[0m\u001b[0mtokenize\u001b[0m\u001b[0;34m(\u001b[0m\u001b[0mcorpus\u001b[0m\u001b[0;34m[\u001b[0m\u001b[0;36m0\u001b[0m\u001b[0;34m]\u001b[0m\u001b[0;34m)\u001b[0m\u001b[0;34m)\u001b[0m\u001b[0;34m\u001b[0m\u001b[0m\n\u001b[0m",
      "\u001b[0;31mTypeError\u001b[0m: first argument must be callable or None"
     ]
    }
   ],
   "source": [
    "# can't create directly from token_array\n",
    "defaultdict(tokenize(corpus[0]))"
   ]
  },
  {
   "cell_type": "code",
   "execution_count": 117,
   "metadata": {},
   "outputs": [],
   "source": [
    "def vectorize_counter(doc):\n",
    "    # can create directly from token_array\n",
    "    freqs = Counter(tokenize(doc))\n",
    "\n",
    "    return freqs    "
   ]
  },
  {
   "cell_type": "code",
   "execution_count": 118,
   "metadata": {
    "scrolled": false
   },
   "outputs": [
    {
     "data": {
      "text/plain": [
       "Counter({'as': 1,\n",
       "         'at': 1,\n",
       "         'eleph': 1,\n",
       "         'of': 1,\n",
       "         'potato': 1,\n",
       "         'promis': 1,\n",
       "         'sight': 1,\n",
       "         'sneez': 1,\n",
       "         'the': 2})"
      ]
     },
     "execution_count": 118,
     "metadata": {},
     "output_type": "execute_result"
    }
   ],
   "source": [
    "# advantages compare with defaultdict\n",
    "# also suppots None Keys, outputs as 0\n",
    "# no need manually add +1,\n",
    "# has function most_common(), returns also freqs\n",
    "vectorize_counter(corpus[0])"
   ]
  },
  {
   "cell_type": "code",
   "execution_count": 119,
   "metadata": {},
   "outputs": [
    {
     "data": {
      "text/plain": [
       "0"
      ]
     },
     "execution_count": 119,
     "metadata": {},
     "output_type": "execute_result"
    }
   ],
   "source": [
    "vectorize_counter(corpus[0])['dddd']"
   ]
  },
  {
   "cell_type": "code",
   "execution_count": 120,
   "metadata": {
    "scrolled": true
   },
   "outputs": [
    {
     "data": {
      "text/plain": [
       "[('the', 2), ('eleph', 1)]"
      ]
     },
     "execution_count": 120,
     "metadata": {},
     "output_type": "execute_result"
    }
   ],
   "source": [
    "vectorize_counter(corpus[0]).most_common(2)"
   ]
  },
  {
   "cell_type": "code",
   "execution_count": 121,
   "metadata": {},
   "outputs": [],
   "source": [
    "# mostly the same as Counter\n",
    "# nltk.probability.FreqDist is a subclass of collections.Counter\n",
    "def vectorize_nltk(doc):\n",
    "    freqs = nltk.FreqDist(tokenize(doc))\n",
    "    \n",
    "    return freqs "
   ]
  },
  {
   "attachments": {
    "image.png": {
     "image/png": "[encoded data removed]"
    }
   },
   "cell_type": "markdown",
   "metadata": {},
   "source": [
    "![image.png](attachment:image.png)"
   ]
  },
  {
   "cell_type": "code",
   "execution_count": 122,
   "metadata": {},
   "outputs": [
    {
     "data": {
      "text/plain": [
       "FreqDist({'the': 2, 'eleph': 1, 'sight': 1, 'promis': 1, 'as': 1, 'sneez': 1, 'potato': 1, 'of': 1, 'at': 1})"
      ]
     },
     "execution_count": 122,
     "metadata": {},
     "output_type": "execute_result"
    }
   ],
   "source": [
    "vectorize_nltk(corpus[0])"
   ]
  },
  {
   "cell_type": "markdown",
   "metadata": {},
   "source": [
    "## Sklearn"
   ]
  },
  {
   "cell_type": "markdown",
   "metadata": {},
   "source": [
    "feature_extraction.text.CountVectorizer -> Convert a collection of text documents to a matrix of token counts\n",
    "\n",
    "feature_extraction.text.HashingVectorizer -> Convert a collection of text documents to a matrix of token occurrences\n",
    "\n",
    "feature_extraction.text.TfidfTransformer -> Transform a count matrix to a normalized tf or tf-idf representation\n",
    "\n",
    "feature_extraction.text.TfidfVectorizer -> Convert a collection of raw documents to a matrix of TF-IDF features."
   ]
  },
  {
   "cell_type": "code",
   "execution_count": 134,
   "metadata": {},
   "outputs": [],
   "source": [
    "from sklearn.feature_extraction.text import CountVectorizer, HashingVectorizer"
   ]
  },
  {
   "cell_type": "code",
   "execution_count": 181,
   "metadata": {},
   "outputs": [],
   "source": [
    "# has get_stop_words()/ get_feature_names()\n",
    "def vectorize_sklearn(corpus):\n",
    "    vectors = CountVectorizer().fit_transform(corpus)\n",
    "    \n",
    "    return vectors \n",
    "\n",
    "\n",
    "vectors = vectorize_sklearn(corpus)"
   ]
  },
  {
   "cell_type": "markdown",
   "metadata": {},
   "source": [
    "has its own internal tokenization and normalization methods.\n",
    "\n",
    "The fit method of the\n",
    "vectorizer expects an iterable or list of strings or file objects, and creates a dictionary\n",
    "of the vocabulary on the corpus.\n",
    "\n",
    "When transform is called, each individual docu‐\n",
    "ment is transformed into a sparse array whose index tuple is the row (the document\n",
    "ID) and the token ID from the dictionary, and whose value is the count:"
   ]
  },
  {
   "cell_type": "code",
   "execution_count": 182,
   "metadata": {
    "scrolled": true
   },
   "outputs": [
    {
     "data": {
      "text/plain": [
       "matrix([[1, 1, 0, 0, 0, 0, 0, 1, 1, 0, 1, 1, 0, 0, 1, 0, 1, 0, 2, 0, 0,\n",
       "         0],\n",
       "        [0, 0, 1, 1, 1, 0, 1, 0, 0, 0, 0, 0, 2, 0, 1, 1, 0, 0, 1, 0, 1,\n",
       "         0],\n",
       "        [0, 0, 0, 0, 0, 1, 0, 0, 0, 1, 0, 0, 0, 1, 0, 0, 0, 1, 2, 1, 0,\n",
       "         1]])"
      ]
     },
     "execution_count": 182,
     "metadata": {},
     "output_type": "execute_result"
    }
   ],
   "source": [
    "vectors.todense()"
   ]
  },
  {
   "cell_type": "code",
   "execution_count": 141,
   "metadata": {
    "scrolled": true
   },
   "outputs": [
    {
     "data": {
      "text/plain": [
       "matrix([[0, 0, 0, 0, 0, 0, 0, 0, 1],\n",
       "        [0, 0, 1, 0, 0, 0, 0, 0, 0],\n",
       "        [0, 0, 0, 0, 0, 0, 0, 1, 0],\n",
       "        [0, 1, 0, 0, 0, 0, 0, 0, 0],\n",
       "        [0, 0, 0, 0, 0, 0, 0, 0, 1],\n",
       "        [0, 0, 0, 0, 0, 0, 1, 0, 0],\n",
       "        [0, 0, 0, 1, 0, 0, 0, 0, 0],\n",
       "        [0, 0, 0, 0, 1, 0, 0, 0, 0],\n",
       "        [1, 0, 0, 0, 0, 0, 0, 0, 0],\n",
       "        [0, 0, 0, 0, 0, 1, 0, 0, 0]])"
      ]
     },
     "execution_count": 141,
     "metadata": {},
     "output_type": "execute_result"
    }
   ],
   "source": [
    "#doc, length = doc length, encoding for individual words\n",
    "vectors_doc = CountVectorizer().fit_transform(tokenize(corpus[0]))\n",
    "vectors_doc.todense()"
   ]
  },
  {
   "cell_type": "code",
   "execution_count": 163,
   "metadata": {},
   "outputs": [
    {
     "data": {
      "text/plain": [
       "matrix([[0., 0., 0., ..., 0., 0., 0.],\n",
       "        [0., 0., 0., ..., 0., 0., 0.],\n",
       "        [0., 0., 0., ..., 0., 0., 0.],\n",
       "        ...,\n",
       "        [0., 0., 0., ..., 0., 0., 0.],\n",
       "        [0., 0., 0., ..., 0., 0., 0.],\n",
       "        [0., 0., 0., ..., 0., 0., 0.]])"
      ]
     },
     "execution_count": 163,
     "metadata": {},
     "output_type": "execute_result"
    }
   ],
   "source": [
    "vectors_h = HashingVectorizer().fit_transform(tokenize(corpus[0]))\n",
    "vectors_h.todense()"
   ]
  },
  {
   "cell_type": "markdown",
   "metadata": {},
   "source": [
    "## Gensim"
   ]
  },
  {
   "cell_type": "code",
   "execution_count": 146,
   "metadata": {},
   "outputs": [],
   "source": [
    "import gensim"
   ]
  },
  {
   "cell_type": "code",
   "execution_count": 203,
   "metadata": {},
   "outputs": [],
   "source": [
    "def vectorize_gensim(corpus):\n",
    "    docs_tokenized = [tokenize(doc) for doc in corpus]\n",
    "    id2word = gensim.corpora.Dictionary(docs_tokenized)\n",
    "    print(\"id2word\", list(id2word))\n",
    "    \n",
    "    vectors = [\n",
    "        id2word.doc2bow(tokenize(doc)) for doc in corpus\n",
    "    ]\n",
    "    \n",
    "    return vectors \n",
    "\n"
   ]
  },
  {
   "cell_type": "code",
   "execution_count": 204,
   "metadata": {},
   "outputs": [
    {
     "name": "stdout",
     "output_type": "stream",
     "text": [
      "id2word [4, 5, 17, 11, 0, 9, 7, 13, 15, 16, 12, 8, 2, 6, 18, 14, 1, 3, 19, 10]\n"
     ]
    },
    {
     "data": {
      "text/plain": [
       "[[(0, 1), (1, 1), (2, 1), (3, 1), (4, 1), (5, 1), (6, 1), (7, 1), (8, 2)],\n",
       " [(6, 1), (7, 1), (8, 1), (9, 2), (10, 1), (11, 1), (12, 2), (13, 1)],\n",
       " [(8, 2), (14, 1), (15, 1), (16, 1), (17, 1), (18, 1), (19, 1)]]"
      ]
     },
     "execution_count": 204,
     "metadata": {},
     "output_type": "execute_result"
    }
   ],
   "source": [
    "vectorize_gensim(corpus)"
   ]
  },
  {
   "cell_type": "code",
   "execution_count": 178,
   "metadata": {},
   "outputs": [
    {
     "data": {
      "text/plain": [
       "[]"
      ]
     },
     "execution_count": 178,
     "metadata": {},
     "output_type": "execute_result"
    }
   ],
   "source": [
    "list(docs_tokenized[0])"
   ]
  },
  {
   "cell_type": "code",
   "execution_count": 180,
   "metadata": {},
   "outputs": [
    {
     "data": {
      "text/plain": [
       "['The elephant sneezed at the sight of potatoes as promised.',\n",
       " 'Bats can see via echolocation. See the bat sight sneeze!',\n",
       " 'Wondering, she opened the door to the studio.']"
      ]
     },
     "execution_count": 180,
     "metadata": {},
     "output_type": "execute_result"
    }
   ],
   "source": [
    "corpus"
   ]
  },
  {
   "cell_type": "code",
   "execution_count": 212,
   "metadata": {},
   "outputs": [
    {
     "data": {
      "text/plain": [
       "{'as',\n",
       " 'at',\n",
       " 'bat',\n",
       " 'can',\n",
       " 'door',\n",
       " 'echoloc',\n",
       " 'eleph',\n",
       " 'of',\n",
       " 'open',\n",
       " 'potato',\n",
       " 'promis',\n",
       " 'see',\n",
       " 'she',\n",
       " 'sight',\n",
       " 'sneez',\n",
       " 'studio',\n",
       " 'the',\n",
       " 'to',\n",
       " 'via',\n",
       " 'wonder'}"
      ]
     },
     "execution_count": 212,
     "metadata": {},
     "output_type": "execute_result"
    }
   ],
   "source": [
    "#unique words\n",
    "vocab = set([token for doc in corpus for token in tokenize(doc)])\n",
    "vocab"
   ]
  },
  {
   "cell_type": "code",
   "execution_count": 213,
   "metadata": {},
   "outputs": [
    {
     "data": {
      "text/plain": [
       "20"
      ]
     },
     "execution_count": 213,
     "metadata": {},
     "output_type": "execute_result"
    }
   ],
   "source": [
    "len(vocab)"
   ]
  },
  {
   "cell_type": "markdown",
   "metadata": {},
   "source": [
    "# 2.One-Hot Encoding"
   ]
  },
  {
   "cell_type": "markdown",
   "metadata": {},
   "source": [
    "A solution to above problem is one-hot encoding, a boolean vector encoding method. One-hot encoding reduces the imbalance issue of the distribution of tokens, simplify‐\n",
    "ing a document to its constituent components. This reduction is most effective for\n",
    "very small documents (sentences, tweets) that don’t contain very many repeated ele‐\n",
    "ments, and is usually applied to models that have very good smoothing properties.\n",
    "One-hot encoding is also commonly used in artificial neural networks, whose activa‐\n",
    "tion functions require input to be in the discrete range of [0,1] or [-1,1] ."
   ]
  },
  {
   "cell_type": "markdown",
   "metadata": {},
   "source": [
    "### NLTK"
   ]
  },
  {
   "cell_type": "code",
   "execution_count": 219,
   "metadata": {},
   "outputs": [
    {
     "data": {
      "text/plain": [
       "[{'as': 1,\n",
       "  'at': 1,\n",
       "  'eleph': 1,\n",
       "  'of': 1,\n",
       "  'potato': 1,\n",
       "  'promis': 1,\n",
       "  'sight': 1,\n",
       "  'sneez': 1,\n",
       "  'the': 1},\n",
       " {'bat': 1,\n",
       "  'can': 1,\n",
       "  'echoloc': 1,\n",
       "  'see': 1,\n",
       "  'sight': 1,\n",
       "  'sneez': 1,\n",
       "  'the': 1,\n",
       "  'via': 1},\n",
       " {'door': 1, 'open': 1, 'she': 1, 'studio': 1, 'the': 1, 'to': 1, 'wonder': 1}]"
      ]
     },
     "execution_count": 219,
     "metadata": {},
     "output_type": "execute_result"
    }
   ],
   "source": [
    "def one_hot_nltk(doc):\n",
    "    return {\n",
    "        token: 1\n",
    "        for token in tokenize(doc)\n",
    "        }\n",
    "vectors = map(one_hot_nltk, corpus)\n",
    "list(vectors)"
   ]
  },
  {
   "cell_type": "markdown",
   "metadata": {},
   "source": [
    "### Scikit-Learn"
   ]
  },
  {
   "cell_type": "code",
   "execution_count": 220,
   "metadata": {},
   "outputs": [],
   "source": [
    "from sklearn.preprocessing import Binarizer"
   ]
  },
  {
   "cell_type": "code",
   "execution_count": 228,
   "metadata": {
    "scrolled": true
   },
   "outputs": [
    {
     "data": {
      "text/plain": [
       "matrix([[1, 1, 0, 0, 0, 0, 0, 1, 1, 0, 1, 1, 0, 0, 1, 0, 1, 0, 2, 0, 0,\n",
       "         0],\n",
       "        [0, 0, 1, 1, 1, 0, 1, 0, 0, 0, 0, 0, 2, 0, 1, 1, 0, 0, 1, 0, 1,\n",
       "         0],\n",
       "        [0, 0, 0, 0, 0, 1, 0, 0, 0, 1, 0, 0, 0, 1, 0, 0, 0, 1, 2, 1, 0,\n",
       "         1]])"
      ]
     },
     "execution_count": 228,
     "metadata": {},
     "output_type": "execute_result"
    }
   ],
   "source": [
    "freqs = vectorize_sklearn(corpus)\n",
    "freqs.todense()"
   ]
  },
  {
   "cell_type": "code",
   "execution_count": 223,
   "metadata": {},
   "outputs": [],
   "source": [
    "one_hot_sk = Binarizer()"
   ]
  },
  {
   "cell_type": "code",
   "execution_count": 231,
   "metadata": {},
   "outputs": [
    {
     "data": {
      "text/plain": [
       "matrix([[1, 1, 0, 0, 0, 0, 0, 1, 1, 0, 1, 1, 0, 0, 1, 0, 1, 0, 1, 0, 0,\n",
       "         0],\n",
       "        [0, 0, 1, 1, 1, 0, 1, 0, 0, 0, 0, 0, 1, 0, 1, 1, 0, 0, 1, 0, 1,\n",
       "         0],\n",
       "        [0, 0, 0, 0, 0, 1, 0, 0, 0, 1, 0, 0, 0, 1, 0, 0, 0, 1, 1, 1, 0,\n",
       "         1]])"
      ]
     },
     "execution_count": 231,
     "metadata": {},
     "output_type": "execute_result"
    }
   ],
   "source": [
    "# attention!! difference from CountVectorizer is that count 1 even if it exist n times\n",
    "one_hot_sk.fit_transform(freqs).todense()"
   ]
  },
  {
   "cell_type": "markdown",
   "metadata": {},
   "source": [
    "### Gensim\n"
   ]
  },
  {
   "cell_type": "code",
   "execution_count": 238,
   "metadata": {},
   "outputs": [],
   "source": [
    "corp = [tokenize(doc) for doc in corpus]\n",
    "id2word = gensim.corpora.Dictionary(corp)\n",
    "vectors = [\n",
    "[(token[0], 1) for token in id2word.doc2bow(doc)]\n",
    "for doc in [tokenize(doc) for doc in corpus]\n",
    "]"
   ]
  },
  {
   "cell_type": "code",
   "execution_count": 240,
   "metadata": {},
   "outputs": [
    {
     "data": {
      "text/plain": [
       "[[(0, 1), (1, 1), (2, 1), (3, 1), (4, 1), (5, 1), (6, 1), (7, 1), (8, 1)],\n",
       " [(6, 1), (7, 1), (8, 1), (9, 1), (10, 1), (11, 1), (12, 1), (13, 1)],\n",
       " [(8, 1), (14, 1), (15, 1), (16, 1), (17, 1), (18, 1), (19, 1)]]"
      ]
     },
     "execution_count": 240,
     "metadata": {},
     "output_type": "execute_result"
    }
   ],
   "source": [
    "vectors"
   ]
  },
  {
   "cell_type": "markdown",
   "metadata": {},
   "source": [
    "# 3.TF-IDF"
   ]
  },
  {
   "cell_type": "markdown",
   "metadata": {},
   "source": [
    "TF–IDF, term frequency–inverse document frequency, encoding normalizes the fre‐\n",
    "quency of tokens in a document with respect to the rest of the corpus. TF–IDF is computed on a per-term basis, such that the relevance of a token to a\n",
    "document is measured by the scaled frequency of the appearance of the term in the\n",
    "document, normalized by the inverse of the scaled frequency of the term in the entire\n",
    "corpus."
   ]
  },
  {
   "attachments": {
    "image.png": {
     "image/png": "[encoded data removed]"
    }
   },
   "cell_type": "markdown",
   "metadata": {},
   "source": [
    "![image.png](attachment:image.png)"
   ]
  },
  {
   "cell_type": "markdown",
   "metadata": {},
   "source": [
    "### NLTK"
   ]
  },
  {
   "cell_type": "code",
   "execution_count": 241,
   "metadata": {},
   "outputs": [],
   "source": [
    "from nltk.text import TextCollection"
   ]
  },
  {
   "cell_type": "code",
   "execution_count": 250,
   "metadata": {},
   "outputs": [],
   "source": [
    "def tf_idf_nltk(corpus):\n",
    "    corp = [tokenize(doc) for doc in corpus]\n",
    "    texts = TextCollection(corp)\n",
    "    for doc in corp:\n",
    "        yield {\n",
    "            term: texts.tf_idf(term, doc)\n",
    "            for term in doc\n",
    "        }"
   ]
  },
  {
   "cell_type": "code",
   "execution_count": 276,
   "metadata": {},
   "outputs": [
    {
     "data": {
      "text/plain": [
       "<Text: T h e   e l e p...>"
      ]
     },
     "execution_count": 276,
     "metadata": {},
     "output_type": "execute_result"
    }
   ],
   "source": [
    "texts = TextCollection(corpus)\n",
    "texts"
   ]
  },
  {
   "cell_type": "code",
   "execution_count": 277,
   "metadata": {},
   "outputs": [
    {
     "data": {
      "text/plain": [
       "[0.01894159118393293,\n",
       " 0.0,\n",
       " 0.0,\n",
       " 0.0,\n",
       " 0.0,\n",
       " 0.006990777726002834,\n",
       " 0.0,\n",
       " 0.020972333178008503,\n",
       " 0.0,\n",
       " 0.027963110904011337,\n",
       " 0.0,\n",
       " 0.0,\n",
       " 0.0,\n",
       " 0.0,\n",
       " 0.0,\n",
       " 0.0,\n",
       " 0.0,\n",
       " 0.006990777726002834,\n",
       " 0.0,\n",
       " 0.013981555452005669,\n",
       " 0.0,\n",
       " 0.027963110904011337,\n",
       " 0.0,\n",
       " 0.0,\n",
       " 0.0,\n",
       " 0.0,\n",
       " 0.0,\n",
       " 0.0,\n",
       " 0.0,\n",
       " 0.0,\n",
       " 0.0,\n",
       " 0.0,\n",
       " 0.0,\n",
       " 0.0,\n",
       " 0.0,\n",
       " 0.01894159118393293,\n",
       " 0.0,\n",
       " 0.020972333178008503,\n",
       " 0.0,\n",
       " 0.0,\n",
       " 0.027963110904011337,\n",
       " 0.0,\n",
       " 0.0,\n",
       " 0.0,\n",
       " 0.0,\n",
       " 0.0,\n",
       " 0.027963110904011337,\n",
       " 0.0,\n",
       " 0.0,\n",
       " 0.020972333178008503,\n",
       " 0.006990777726002834,\n",
       " 0.0,\n",
       " 0.01894159118393293,\n",
       " 0.0,\n",
       " 0.0,\n",
       " 0.0,\n",
       " 0.013981555452005669,\n",
       " 0.0]"
      ]
     },
     "execution_count": 277,
     "metadata": {},
     "output_type": "execute_result"
    }
   ],
   "source": [
    "#smth wrong((((\n",
    "doc = corpus[0]\n",
    "[texts.tf_idf(token, doc) for token in doc]"
   ]
  },
  {
   "cell_type": "markdown",
   "metadata": {},
   "source": [
    "### Sklearn"
   ]
  },
  {
   "cell_type": "code",
   "execution_count": 269,
   "metadata": {},
   "outputs": [
    {
     "data": {
      "text/plain": [
       "array([[0.33382127, 0.33382127, 0.        , 0.        , 0.        ,\n",
       "        0.        , 0.        , 0.33382127, 0.33382127, 0.        ,\n",
       "        0.33382127, 0.33382127, 0.        , 0.        , 0.25387968,\n",
       "        0.        , 0.33382127, 0.        , 0.39432044, 0.        ,\n",
       "        0.        , 0.        ]])"
      ]
     },
     "execution_count": 269,
     "metadata": {},
     "output_type": "execute_result"
    }
   ],
   "source": [
    "from sklearn.feature_extraction.text import TfidfVectorizer\n",
    "\n",
    "tfidf = TfidfVectorizer()\n",
    "corp_tf_if = tfidf.fit_transform(corpus)\n",
    "corp_tf_if[0].toarray()\n"
   ]
  },
  {
   "cell_type": "code",
   "execution_count": 318,
   "metadata": {},
   "outputs": [
    {
     "data": {
      "text/html": [
       "<div>\n",
       "<style scoped>\n",
       "    .dataframe tbody tr th:only-of-type {\n",
       "        vertical-align: middle;\n",
       "    }\n",
       "\n",
       "    .dataframe tbody tr th {\n",
       "        vertical-align: top;\n",
       "    }\n",
       "\n",
       "    .dataframe thead th {\n",
       "        text-align: right;\n",
       "    }\n",
       "</style>\n",
       "<table border=\"1\" class=\"dataframe\">\n",
       "  <thead>\n",
       "    <tr style=\"text-align: right;\">\n",
       "      <th></th>\n",
       "      <th>as</th>\n",
       "      <th>at</th>\n",
       "      <th>bat</th>\n",
       "      <th>bats</th>\n",
       "      <th>can</th>\n",
       "      <th>door</th>\n",
       "      <th>echolocation</th>\n",
       "      <th>elephant</th>\n",
       "      <th>of</th>\n",
       "      <th>opened</th>\n",
       "      <th>...</th>\n",
       "      <th>see</th>\n",
       "      <th>she</th>\n",
       "      <th>sight</th>\n",
       "      <th>sneeze</th>\n",
       "      <th>sneezed</th>\n",
       "      <th>studio</th>\n",
       "      <th>the</th>\n",
       "      <th>to</th>\n",
       "      <th>via</th>\n",
       "      <th>wondering</th>\n",
       "    </tr>\n",
       "  </thead>\n",
       "  <tbody>\n",
       "    <tr>\n",
       "      <th>0</th>\n",
       "      <td>0.333821</td>\n",
       "      <td>0.333821</td>\n",
       "      <td>0.000000</td>\n",
       "      <td>0.000000</td>\n",
       "      <td>0.000000</td>\n",
       "      <td>0.000000</td>\n",
       "      <td>0.000000</td>\n",
       "      <td>0.333821</td>\n",
       "      <td>0.333821</td>\n",
       "      <td>0.000000</td>\n",
       "      <td>...</td>\n",
       "      <td>0.000000</td>\n",
       "      <td>0.000000</td>\n",
       "      <td>0.253880</td>\n",
       "      <td>0.000000</td>\n",
       "      <td>0.333821</td>\n",
       "      <td>0.000000</td>\n",
       "      <td>0.394320</td>\n",
       "      <td>0.000000</td>\n",
       "      <td>0.000000</td>\n",
       "      <td>0.000000</td>\n",
       "    </tr>\n",
       "    <tr>\n",
       "      <th>1</th>\n",
       "      <td>0.000000</td>\n",
       "      <td>0.000000</td>\n",
       "      <td>0.302514</td>\n",
       "      <td>0.302514</td>\n",
       "      <td>0.302514</td>\n",
       "      <td>0.000000</td>\n",
       "      <td>0.302514</td>\n",
       "      <td>0.000000</td>\n",
       "      <td>0.000000</td>\n",
       "      <td>0.000000</td>\n",
       "      <td>...</td>\n",
       "      <td>0.605027</td>\n",
       "      <td>0.000000</td>\n",
       "      <td>0.230069</td>\n",
       "      <td>0.302514</td>\n",
       "      <td>0.000000</td>\n",
       "      <td>0.000000</td>\n",
       "      <td>0.178669</td>\n",
       "      <td>0.000000</td>\n",
       "      <td>0.302514</td>\n",
       "      <td>0.000000</td>\n",
       "    </tr>\n",
       "    <tr>\n",
       "      <th>2</th>\n",
       "      <td>0.000000</td>\n",
       "      <td>0.000000</td>\n",
       "      <td>0.000000</td>\n",
       "      <td>0.000000</td>\n",
       "      <td>0.000000</td>\n",
       "      <td>0.367724</td>\n",
       "      <td>0.000000</td>\n",
       "      <td>0.000000</td>\n",
       "      <td>0.000000</td>\n",
       "      <td>0.367724</td>\n",
       "      <td>...</td>\n",
       "      <td>0.000000</td>\n",
       "      <td>0.367724</td>\n",
       "      <td>0.000000</td>\n",
       "      <td>0.000000</td>\n",
       "      <td>0.000000</td>\n",
       "      <td>0.367724</td>\n",
       "      <td>0.434367</td>\n",
       "      <td>0.367724</td>\n",
       "      <td>0.000000</td>\n",
       "      <td>0.367724</td>\n",
       "    </tr>\n",
       "  </tbody>\n",
       "</table>\n",
       "<p>3 rows × 22 columns</p>\n",
       "</div>"
      ],
      "text/plain": [
       "         as        at       bat      bats       can      door  echolocation  \\\n",
       "0  0.333821  0.333821  0.000000  0.000000  0.000000  0.000000      0.000000   \n",
       "1  0.000000  0.000000  0.302514  0.302514  0.302514  0.000000      0.302514   \n",
       "2  0.000000  0.000000  0.000000  0.000000  0.000000  0.367724      0.000000   \n",
       "\n",
       "   elephant        of    opened  ...       see       she     sight    sneeze  \\\n",
       "0  0.333821  0.333821  0.000000  ...  0.000000  0.000000  0.253880  0.000000   \n",
       "1  0.000000  0.000000  0.000000  ...  0.605027  0.000000  0.230069  0.302514   \n",
       "2  0.000000  0.000000  0.367724  ...  0.000000  0.367724  0.000000  0.000000   \n",
       "\n",
       "    sneezed    studio       the        to       via  wondering  \n",
       "0  0.333821  0.000000  0.394320  0.000000  0.000000   0.000000  \n",
       "1  0.000000  0.000000  0.178669  0.000000  0.302514   0.000000  \n",
       "2  0.000000  0.367724  0.434367  0.367724  0.000000   0.367724  \n",
       "\n",
       "[3 rows x 22 columns]"
      ]
     },
     "execution_count": 318,
     "metadata": {},
     "output_type": "execute_result"
    }
   ],
   "source": [
    "pd.DataFrame(\n",
    "    corp_tf_if.todense(),\n",
    "    columns=tfidf.get_feature_names()\n",
    ")"
   ]
  },
  {
   "cell_type": "code",
   "execution_count": 278,
   "metadata": {},
   "outputs": [
    {
     "data": {
      "text/plain": [
       "array([[0.        , 0.        , 0.30251368, 0.30251368, 0.30251368,\n",
       "        0.        , 0.30251368, 0.        , 0.        , 0.        ,\n",
       "        0.        , 0.        , 0.60502736, 0.        , 0.23006945,\n",
       "        0.30251368, 0.        , 0.        , 0.17866945, 0.        ,\n",
       "        0.30251368, 0.        ]])"
      ]
     },
     "execution_count": 278,
     "metadata": {},
     "output_type": "execute_result"
    }
   ],
   "source": [
    "corp_tf_if[1].toarray()\n"
   ]
  },
  {
   "cell_type": "code",
   "execution_count": 279,
   "metadata": {},
   "outputs": [
    {
     "data": {
      "text/plain": [
       "array([[0.        , 0.        , 0.        , 0.        , 0.        ,\n",
       "        0.36772387, 0.        , 0.        , 0.        , 0.36772387,\n",
       "        0.        , 0.        , 0.        , 0.36772387, 0.        ,\n",
       "        0.        , 0.        , 0.36772387, 0.43436728, 0.36772387,\n",
       "        0.        , 0.36772387]])"
      ]
     },
     "execution_count": 279,
     "metadata": {},
     "output_type": "execute_result"
    }
   ],
   "source": [
    "corp_tf_if[2].toarray()"
   ]
  },
  {
   "cell_type": "code",
   "execution_count": 280,
   "metadata": {},
   "outputs": [
    {
     "data": {
      "text/plain": [
       "matrix([[1, 1, 0, 0, 0, 0, 0, 1, 1, 0, 1, 1, 0, 0, 1, 0, 1, 0, 2, 0, 0,\n",
       "         0],\n",
       "        [0, 0, 1, 1, 1, 0, 1, 0, 0, 0, 0, 0, 2, 0, 1, 1, 0, 0, 1, 0, 1,\n",
       "         0],\n",
       "        [0, 0, 0, 0, 0, 1, 0, 0, 0, 1, 0, 0, 0, 1, 0, 0, 0, 1, 2, 1, 0,\n",
       "         1]])"
      ]
     },
     "execution_count": 280,
     "metadata": {},
     "output_type": "execute_result"
    }
   ],
   "source": [
    "freqs = vectorize_sklearn(corpus)\n",
    "freqs.todense()"
   ]
  },
  {
   "cell_type": "code",
   "execution_count": 281,
   "metadata": {},
   "outputs": [],
   "source": [
    "#????? why dim is 22 not 20 as vocab size"
   ]
  },
  {
   "cell_type": "markdown",
   "metadata": {},
   "source": [
    "### Gensim"
   ]
  },
  {
   "cell_type": "code",
   "execution_count": 285,
   "metadata": {},
   "outputs": [
    {
     "data": {
      "text/plain": [
       "[(4, 'potato'),\n",
       " (5, 'promis'),\n",
       " (17, 'studio'),\n",
       " (11, 'echoloc'),\n",
       " (0, 'as'),\n",
       " (9, 'bat'),\n",
       " (7, 'sneez'),\n",
       " (13, 'via'),\n",
       " (15, 'open'),\n",
       " (16, 'she'),\n",
       " (12, 'see'),\n",
       " (8, 'the'),\n",
       " (2, 'eleph'),\n",
       " (6, 'sight'),\n",
       " (18, 'to'),\n",
       " (14, 'door'),\n",
       " (1, 'at'),\n",
       " (3, 'of'),\n",
       " (19, 'wonder'),\n",
       " (10, 'can')]"
      ]
     },
     "execution_count": 285,
     "metadata": {},
     "output_type": "execute_result"
    }
   ],
   "source": [
    "lexicon = gensim.corpora.Dictionary([tokenize(doc) for doc in corpus])\n",
    "[l for l in lexicon.items()]"
   ]
  },
  {
   "cell_type": "code",
   "execution_count": 291,
   "metadata": {},
   "outputs": [],
   "source": [
    "tf_idf_gensim = gensim.models.TfidfModel(dictionary=lexicon, normalize=True)\n",
    "vecotors = [tf_idf_gensim[lexicon.doc2bow(doc)] for doc in [tokenize(doc) for doc in corpus]]"
   ]
  },
  {
   "cell_type": "code",
   "execution_count": 292,
   "metadata": {},
   "outputs": [
    {
     "data": {
      "text/plain": [
       "[[(0, 0.39928430322959224),\n",
       "  (1, 0.39928430322959224),\n",
       "  (2, 0.39928430322959224),\n",
       "  (3, 0.39928430322959224),\n",
       "  (4, 0.39928430322959224),\n",
       "  (5, 0.39928430322959224),\n",
       "  (6, 0.1473639561879945),\n",
       "  (7, 0.1473639561879945)],\n",
       " [(6, 0.10992597952954358),\n",
       "  (7, 0.10992597952954358),\n",
       "  (9, 0.5956913654963344),\n",
       "  (10, 0.2978456827481672),\n",
       "  (11, 0.2978456827481672),\n",
       "  (12, 0.5956913654963344),\n",
       "  (13, 0.2978456827481672)],\n",
       " [(14, 0.408248290463863),\n",
       "  (15, 0.408248290463863),\n",
       "  (16, 0.408248290463863),\n",
       "  (17, 0.408248290463863),\n",
       "  (18, 0.408248290463863),\n",
       "  (19, 0.408248290463863)]]"
      ]
     },
     "execution_count": 292,
     "metadata": {},
     "output_type": "execute_result"
    }
   ],
   "source": [
    "vecotors"
   ]
  },
  {
   "cell_type": "markdown",
   "metadata": {},
   "source": [
    "# 4.Distributed Representation"
   ]
  },
  {
   "cell_type": "markdown",
   "metadata": {},
   "source": [
    "While frequency, one-hot, and TF–IDF encoding enable us to put documents into\n",
    "vector space, it is often useful to also encode the similarities between documents in\n",
    "the context of that same vector space. Unfortunately, these vectorization methods\n",
    "produce document vectors with <b>non-negative elements</b>, which means we won’t be\n",
    "able to compare documents that don’t share terms (because two vectors with a cosine\n",
    "distance of 1 will be considered far apart, even if they are semantically similar). \n",
    "\n",
    "Word2vec, created by a team of researchers at Google led by Tomáš Mikolov, imple‐\n",
    "ments a word embedding model that enables us to create these kinds of distributed\n",
    "representations. The word2vec algorithm trains word representations based on either\n",
    "a continuous bag-of-words (CBOW) or skip-gram model, such that words are\n",
    "embedded in space along with similar words based on their context.\n",
    "\n",
    "Neither NLTK nor Scikit-Learn provide implementations of these kinds of word\n",
    "embeddings. Gensim’s implementation allows users to train both word2vec and\n",
    "doc2vec models on custom corpora and also conveniently comes with a model that is\n",
    "pretrained on the Google news corpus."
   ]
  },
  {
   "cell_type": "code",
   "execution_count": 294,
   "metadata": {},
   "outputs": [],
   "source": [
    "from gensim.models.doc2vec import TaggedDocument, Doc2Vec "
   ]
  },
  {
   "cell_type": "code",
   "execution_count": 295,
   "metadata": {},
   "outputs": [],
   "source": [
    "corpus_tokenized = [list(tokenize(doc)) for doc in corpus]"
   ]
  },
  {
   "cell_type": "code",
   "execution_count": 296,
   "metadata": {},
   "outputs": [
    {
     "data": {
      "text/plain": [
       "[['the',\n",
       "  'eleph',\n",
       "  'sneez',\n",
       "  'at',\n",
       "  'the',\n",
       "  'sight',\n",
       "  'of',\n",
       "  'potato',\n",
       "  'as',\n",
       "  'promis'],\n",
       " ['bat',\n",
       "  'can',\n",
       "  'see',\n",
       "  'via',\n",
       "  'echoloc',\n",
       "  'see',\n",
       "  'the',\n",
       "  'bat',\n",
       "  'sight',\n",
       "  'sneez'],\n",
       " ['wonder', 'she', 'open', 'the', 'door', 'to', 'the', 'studio']]"
      ]
     },
     "execution_count": 296,
     "metadata": {},
     "output_type": "execute_result"
    }
   ],
   "source": [
    "corpus_tokenized"
   ]
  },
  {
   "cell_type": "code",
   "execution_count": 298,
   "metadata": {
    "scrolled": true
   },
   "outputs": [
    {
     "data": {
      "text/plain": [
       "[TaggedDocument(words=['the', 'eleph', 'sneez', 'at', 'the', 'sight', 'of', 'potato', 'as', 'promis'], tags=['d0']),\n",
       " TaggedDocument(words=['bat', 'can', 'see', 'via', 'echoloc', 'see', 'the', 'bat', 'sight', 'sneez'], tags=['d1']),\n",
       " TaggedDocument(words=['wonder', 'she', 'open', 'the', 'door', 'to', 'the', 'studio'], tags=['d2'])]"
      ]
     },
     "execution_count": 298,
     "metadata": {},
     "output_type": "execute_result"
    }
   ],
   "source": [
    "corpus_tagged = [\n",
    "    TaggedDocument(words, ['d{}'.format(idx)])\n",
    "    for idx, words in enumerate(corpus_tokenized)\n",
    "]\n",
    "\n",
    "corpus_tagged"
   ]
  },
  {
   "cell_type": "code",
   "execution_count": 307,
   "metadata": {},
   "outputs": [
    {
     "data": {
      "text/plain": [
       "array([ 0.03752895,  0.03408334, -0.05517091,  0.01732463, -0.03726776,\n",
       "       -0.03113534,  0.06097883, -0.03346945], dtype=float32)"
      ]
     },
     "execution_count": 307,
     "metadata": {},
     "output_type": "execute_result"
    }
   ],
   "source": [
    "model = Doc2Vec(corpus_tagged, size=8)\n",
    "model.docvecs[0]"
   ]
  },
  {
   "cell_type": "code",
   "execution_count": 308,
   "metadata": {},
   "outputs": [
    {
     "data": {
      "text/plain": [
       "array([ 0.05935048,  0.01643289,  0.05652129, -0.04558019,  0.05451574,\n",
       "        0.05211021,  0.01446601,  0.00479959], dtype=float32)"
      ]
     },
     "execution_count": 308,
     "metadata": {},
     "output_type": "execute_result"
    }
   ],
   "source": [
    "model.docvecs[1]"
   ]
  },
  {
   "cell_type": "code",
   "execution_count": 309,
   "metadata": {},
   "outputs": [
    {
     "data": {
      "text/plain": [
       "array([-0.01585715, -0.05876537, -0.01375739, -0.00105622, -0.02813986,\n",
       "        0.0092517 ,  0.00493175,  0.04358973], dtype=float32)"
      ]
     },
     "execution_count": 309,
     "metadata": {},
     "output_type": "execute_result"
    }
   ],
   "source": [
    "model.docvecs[2]"
   ]
  },
  {
   "cell_type": "markdown",
   "metadata": {},
   "source": [
    "Distributed representations will dramatically improve results over TF–IDF models\n",
    "when used correctly. The model itself can be saved to disk and retrained in an active\n",
    "fashion, making it extremely flexible for a variety of use cases. However, on big\n",
    "data, training can be slow and memory intensive, and it might not be as good as a\n",
    "<b>TF–IDF model with Principal Component Analysis (PCA) or Singular Value Decom‐\n",
    "position (SVD) applied to reduce the feature space</b>. In the end, however, this repre‐\n",
    "sentation is breakthrough work that has led to a dramatic improvement in text\n",
    "processing capabilities of data products in recent years."
   ]
  },
  {
   "cell_type": "markdown",
   "metadata": {},
   "source": [
    "# Overview"
   ]
  },
  {
   "attachments": {
    "image.png": {
     "image/png": "[encoded data removed]"
    }
   },
   "cell_type": "markdown",
   "metadata": {},
   "source": [
    "![image.png](attachment:image.png)"
   ]
  },
  {
   "cell_type": "code",
   "execution_count": null,
   "metadata": {},
   "outputs": [],
   "source": []
  }
 ],
 "metadata": {
  "kernelspec": {
   "display_name": "Python 3",
   "language": "python",
   "name": "python3"
  },
  "language_info": {
   "codemirror_mode": {
    "name": "ipython",
    "version": 3
   },
   "file_extension": ".py",
   "mimetype": "text/x-python",
   "name": "python",
   "nbconvert_exporter": "python",
   "pygments_lexer": "ipython3",
   "version": "3.5.2"
  }
 },
 "nbformat": 4,
 "nbformat_minor": 2
}
