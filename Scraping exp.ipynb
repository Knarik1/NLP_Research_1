{
 "cells": [
  {
   "cell_type": "code",
   "execution_count": 3,
   "metadata": {},
   "outputs": [],
   "source": [
    "import base64\n",
    "from github import Github\n",
    "from pprint import pprint\n",
    "from bs4 import BeautifulSoup\n",
    "import spacy\n",
    "\n",
    "sp = spacy.load('en_core_web_sm')"
   ]
  },
  {
   "cell_type": "code",
   "execution_count": 4,
   "metadata": {},
   "outputs": [],
   "source": [
    "\n",
    "# Github username\n",
    "username = \"x4nth055\"\n",
    "# pygithub object\n",
    "g = Github()\n",
    "# get that user by username\n",
    "user = g.get_user(username)\n",
    "repos = []\n",
    "for repo in user.get_repos():\n",
    "    repos.append(repo)"
   ]
  },
  {
   "cell_type": "code",
   "execution_count": 5,
   "metadata": {},
   "outputs": [
    {
     "data": {
      "text/plain": [
       "[Repository(full_name=\"x4nth055/aind2-rnn\"),\n",
       " Repository(full_name=\"x4nth055/awesome-algeria\"),\n",
       " Repository(full_name=\"x4nth055/emotion-recognition-using-speech\"),\n",
       " Repository(full_name=\"x4nth055/emotion-recognition-using-text\"),\n",
       " Repository(full_name=\"x4nth055/food-reviews-sentiment-analysis\"),\n",
       " Repository(full_name=\"x4nth055/gender-recognition-by-voice\"),\n",
       " Repository(full_name=\"x4nth055/hrk\"),\n",
       " Repository(full_name=\"x4nth055/lp_simplex\"),\n",
       " Repository(full_name=\"x4nth055/price-prediction\"),\n",
       " Repository(full_name=\"x4nth055/product_recommendation\"),\n",
       " Repository(full_name=\"x4nth055/pythoncode-tutorials\"),\n",
       " Repository(full_name=\"x4nth055/sentiment_analysis_naive_bayes\")]"
      ]
     },
     "execution_count": 5,
     "metadata": {},
     "output_type": "execute_result"
    }
   ],
   "source": [
    "repos"
   ]
  },
  {
   "cell_type": "code",
   "execution_count": 6,
   "metadata": {},
   "outputs": [],
   "source": [
    "def print_repo(repo):\n",
    "    # repository full name\n",
    "    print(\"Full name:\", repo.full_name)\n",
    "    # repository description\n",
    "    print(\"Description:\", repo.description)\n",
    "    # the date of when the repo was created\n",
    "    print(\"Date created:\", repo.created_at)\n",
    "    # the date of the last git push\n",
    "    print(\"Date of last push:\", repo.pushed_at)\n",
    "    # home website (if available)\n",
    "    print(\"Home Page:\", repo.homepage)\n",
    "    # programming language\n",
    "    print(\"Language:\", repo.language)\n",
    "    # number of forks\n",
    "    print(\"Number of forks:\", repo.forks)\n",
    "    # number of stars\n",
    "    print(\"Number of stax4nth055rs:\", repo.stargazers_count)"
   ]
  },
  {
   "cell_type": "code",
   "execution_count": 7,
   "metadata": {},
   "outputs": [
    {
     "data": {
      "text/plain": [
       "Repository(full_name=\"x4nth055/price-prediction\")"
      ]
     },
     "execution_count": 7,
     "metadata": {},
     "output_type": "execute_result"
    }
   ],
   "source": [
    "repo_1 = repos[len(repos)-4]\n",
    "repo_1"
   ]
  },
  {
   "cell_type": "code",
   "execution_count": 8,
   "metadata": {},
   "outputs": [],
   "source": [
    "readme = repo_1.get_readme()"
   ]
  },
  {
   "cell_type": "code",
   "execution_count": 9,
   "metadata": {},
   "outputs": [
    {
     "data": {
      "text/plain": [
       "b'# Price Prediction using Deep Learning\\r\\n<img src=\"https://s3.amazonaws.com/keras.io/img/keras-logo-2018-large-1200.png\" height=\"80\">\\r\\n\\r\\n## Introduction\\r\\nThis repository uses recurrent neural networks to predict the price of any stock, currency or cryptocurrency ( any market that [yahoo_fin](http://theautomatic.net/yahoo_fin-documentation/) library supports ) using **keras** library.\\r\\n\\r\\n## Getting Started\\r\\nto use this repository, install required packages\\r\\n1. Python 3.6\\r\\n2. keras==2.2.4\\r\\n3. sklearn==0.20.2\\r\\n4. numpy==1.16.2\\r\\n5. pandas==0.23.4\\r\\n6. matplotlib==2.2.3\\r\\n7. yahoo_fin\\r\\n\\r\\nusing the following command:\\r\\n```\\r\\npip3 install -r requirements.txt\\r\\n```\\r\\n## Dataset\\r\\nDataset is downloaded automatically using [yahoo_fin](http://theautomatic.net/yahoo_fin-documentation/) package and stored in `data` folder. click [here](http://theautomatic.net/yahoo_fin-documentation/) for more information about different tickers.\\r\\n### **Example**\\r\\n```python\\r\\nfrom keras.layers import GRU, LSTM, CuDNNLSTM\\r\\nfrom price_prediction import PricePrediction\\r\\n\\r\\nticker = \"BTC-USD\"\\r\\n\\r\\n# init class, choose as much parameters as you want, check its docstring\\r\\np = PricePrediction(\"BTC-USD\", epochs=1000, cell=LSTM, n_layers=3, units=256, loss=\"mae\", optimizer=\"adam\")\\r\\n\\r\\n# train the model if not trained yet\\r\\np.train()\\r\\n# predict the next price for BTC\\r\\nprint(f\"The next predicted price for {ticker} is {p.predict()}$\")\\r\\n# decision to make ( sell/buy )\\r\\nbuy_sell = p.predict(classify=True)\\r\\nprint(f\"you should {\\'sell\\' if buy_sell == 0 else \\'buy\\'}.\")\\r\\n# print some metrics\\r\\nprint(\"Mean Absolute Error:\", p.get_MAE())\\r\\nprint(\"Mean Squared Error:\", p.get_MSE())\\r\\nprint(f\"Accuracy: {p.get_accuracy()*100:.3f}%\")\\r\\n# plot actual prices vs predicted prices\\r\\np.plot_test_set()\\r\\n```\\r\\n### Output\\r\\n```\\r\\nThe next predicted price for BTC-USD is 8011.0634765625$\\r\\nyou should buy.\\r\\nMean Absolute Error: 145.36850360261292\\r\\nMean Squared Error: 40611.868264624296\\r\\nAccuracy: 63.655%\\r\\n```\\r\\n<img src=\"images/Figure_1.png\" height=\"400\" width=\"600\">\\r\\n\\r\\nTraining logs are stored in `logs` folder that can be opened using [tensorboard](https://github.com/tensorflow/tensorboard), as well as model weights in `results` folder.\\r\\n\\r\\n## Next Steps\\r\\n- Fine tune model parameters ( `n_layers`, RNN `cell`, number of `units`, etc.)\\r\\n- Tune training parameters ( `batch_size`, `optimizer`, etc. )\\r\\n- Try out different markets such as *NFLX (Netflix)*, *AAPL (Apple)* by setting the `ticker` parameter'"
      ]
     },
     "execution_count": 9,
     "metadata": {},
     "output_type": "execute_result"
    }
   ],
   "source": [
    "readme.decoded_content"
   ]
  },
  {
   "cell_type": "code",
   "execution_count": 10,
   "metadata": {
    "scrolled": true
   },
   "outputs": [
    {
     "data": {
      "text/plain": [
       "'# Price Prediction using Deep Learning\\r\\n\\r\\n\\r\\n## Introduction\\r\\nThis repository uses recurrent neural networks to predict the price of any stock, currency or cryptocurrency ( any market that [yahoo_fin](http://theautomatic.net/yahoo_fin-documentation/) library supports ) using **keras** library.\\r\\n\\r\\n## Getting Started\\r\\nto use this repository, install required packages\\r\\n1. Python 3.6\\r\\n2. keras==2.2.4\\r\\n3. sklearn==0.20.2\\r\\n4. numpy==1.16.2\\r\\n5. pandas==0.23.4\\r\\n6. matplotlib==2.2.3\\r\\n7. yahoo_fin\\r\\n\\r\\nusing the following command:\\r\\n```\\r\\npip3 install -r requirements.txt\\r\\n```\\r\\n## Dataset\\r\\nDataset is downloaded automatically using [yahoo_fin](http://theautomatic.net/yahoo_fin-documentation/) package and stored in `data` folder. click [here](http://theautomatic.net/yahoo_fin-documentation/) for more information about different tickers.\\r\\n### **Example**\\r\\n```python\\r\\nfrom keras.layers import GRU, LSTM, CuDNNLSTM\\r\\nfrom price_prediction import PricePrediction\\r\\n\\r\\nticker = \"BTC-USD\"\\r\\n\\r\\n# init class, choose as much parameters as you want, check its docstring\\r\\np = PricePrediction(\"BTC-USD\", epochs=1000, cell=LSTM, n_layers=3, units=256, loss=\"mae\", optimizer=\"adam\")\\r\\n\\r\\n# train the model if not trained yet\\r\\np.train()\\r\\n# predict the next price for BTC\\r\\nprint(f\"The next predicted price for {ticker} is {p.predict()}$\")\\r\\n# decision to make ( sell/buy )\\r\\nbuy_sell = p.predict(classify=True)\\r\\nprint(f\"you should {\\'sell\\' if buy_sell == 0 else \\'buy\\'}.\")\\r\\n# print some metrics\\r\\nprint(\"Mean Absolute Error:\", p.get_MAE())\\r\\nprint(\"Mean Squared Error:\", p.get_MSE())\\r\\nprint(f\"Accuracy: {p.get_accuracy()*100:.3f}%\")\\r\\n# plot actual prices vs predicted prices\\r\\np.plot_test_set()\\r\\n```\\r\\n### Output\\r\\n```\\r\\nThe next predicted price for BTC-USD is 8011.0634765625$\\r\\nyou should buy.\\r\\nMean Absolute Error: 145.36850360261292\\r\\nMean Squared Error: 40611.868264624296\\r\\nAccuracy: 63.655%\\r\\n```\\r\\n\\r\\n\\r\\nTraining logs are stored in `logs` folder that can be opened using [tensorboard](https://github.com/tensorflow/tensorboard), as well as model weights in `results` folder.\\r\\n\\r\\n## Next Steps\\r\\n- Fine tune model parameters ( `n_layers`, RNN `cell`, number of `units`, etc.)\\r\\n- Tune training parameters ( `batch_size`, `optimizer`, etc. )\\r\\n- Try out different markets such as *NFLX (Netflix)*, *AAPL (Apple)* by setting the `ticker` parameter'"
      ]
     },
     "execution_count": 10,
     "metadata": {},
     "output_type": "execute_result"
    }
   ],
   "source": [
    "doc = BeautifulSoup(readme.decoded_content, 'html.parser').get_text().strip()\n",
    "doc"
   ]
  },
  {
   "cell_type": "code",
   "execution_count": 13,
   "metadata": {},
   "outputs": [
    {
     "data": {
      "text/plain": [
       "'Price Prediction Deep Learning introduction repository use recurrent neural network predict price stock currency cryptocurrency market yahoo_fin](http://theautomatic.net yahoo_fin documentation/ library support kera library get start use repository install require package 1 Python 3.6 2 keras==2.2.4 3 sklearn==0.20.2 4 numpy==1.16.2 5 pandas==0.23.4 6 matplotlib==2.2.3 7 yahoo_fin follow command ` ` ` pip3 install -r requirements.txt ` ` ` Dataset Dataset download automatically yahoo_fin](http://theautomatic.net yahoo_fin documentation/ package store ` datum ` folder click here](http://theautomatic.net yahoo_fin documentation/ information different ticker example ` ` ` python keras.layer import GRU LSTM CuDNNLSTM price_prediction import PricePrediction ticker = BTC USD init class choose parameter want check docstring p = priceprediction(\"btc USD epochs=1000 cell = LSTM n_layers=3 units=256 loss=\"mae optimizer=\"adam train model train p.train predict price BTC print(f\"the predict price ticker p.predict()}$ decision sell buy buy_sell = p.predict(classify = true print(f\"you sell buy_sell = = 0 buy print metric print(\"Mean absolute error p.get_MAE print(\"Mean Squared Error p.get_MSE print(f\"accuracy p.get_accuracy()*100:.3f}% plot actual price vs predict price p.plot_test_set ` ` ` output ` ` ` predict price BTC USD 8011.0634765625 $ buy Mean Absolute Error 145.36850360261292 Mean Squared Error 40611.868264624296 accuracy 63.655 ` ` ` Training log store ` log ` folder open tensorboard](https://github.com tensorflow tensorboard model weight ` result ` folder Steps fine tune model parameter ` n_layers ` RNN ` cell ` number ` unit ` etc tune training parameter ` batch_size ` ` optimizer ` etc try different market NFLX Netflix AAPL Apple set ` ticker ` parameter'"
      ]
     },
     "execution_count": 13,
     "metadata": {},
     "output_type": "execute_result"
    }
   ],
   "source": [
    "doc_spacy = sp(doc)\n",
    "doc_tokenized_spacy = [token.lemma_ for token in doc_spacy\n",
    "    if not token.is_stop and not token.is_punct and not token.is_space]\n",
    "\" \".join(doc_tokenized_spacy)"
   ]
  },
  {
   "cell_type": "code",
   "execution_count": null,
   "metadata": {},
   "outputs": [],
   "source": []
  }
 ],
 "metadata": {
  "kernelspec": {
   "display_name": "Python 3",
   "language": "python",
   "name": "python3"
  },
  "language_info": {
   "codemirror_mode": {
    "name": "ipython",
    "version": 3
   },
   "file_extension": ".py",
   "mimetype": "text/x-python",
   "name": "python",
   "nbconvert_exporter": "python",
   "pygments_lexer": "ipython3",
   "version": "3.5.2"
  }
 },
 "nbformat": 4,
 "nbformat_minor": 4
}
