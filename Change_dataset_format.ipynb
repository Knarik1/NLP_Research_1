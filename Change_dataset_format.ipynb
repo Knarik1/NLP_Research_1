{
 "cells": [
  {
   "cell_type": "code",
   "execution_count": 74,
   "metadata": {},
   "outputs": [],
   "source": [
    "import numpy as np\n",
    "import pandas as pd\n",
    "import matplotlib.pyplot as plt\n",
    "import seaborn as sns\n",
    "\n",
    "import os\n",
    "\n",
    "import nltk\n",
    "from utils import make_dataset, preprocess_txt, create_corpus, create_vocab, show_most_freq_n\n",
    "\n",
    "%reload_ext autoreload\n",
    "%autoreload 2"
   ]
  },
  {
   "cell_type": "code",
   "execution_count": 3,
   "metadata": {},
   "outputs": [],
   "source": [
    "import warnings\n",
    "warnings.filterwarnings(\"ignore\")"
   ]
  },
  {
   "cell_type": "code",
   "execution_count": 37,
   "metadata": {},
   "outputs": [],
   "source": [
    "# read all datasets\n",
    "df_appceleratorstudio = pd.read_csv('./data/appceleratorstudio.csv')\n",
    "df_aptanastudio = pd.read_csv('./data/aptanastudio.csv')\n",
    "df_bamboo = pd.read_csv('./data/bamboo.csv')\n",
    "df_clover = pd.read_csv('./data/clover.csv')\n",
    "df_datamanagement = pd.read_csv('./data/datamanagement.csv')\n",
    "df_duracloud = pd.read_csv('./data/duracloud.csv')\n",
    "df_jirasoftware = pd.read_csv('./data/jirasoftware.csv')\n",
    "df_mesos = pd.read_csv('./data/mesos.csv')\n",
    "df_titanium = pd.read_csv('./data/titanium.csv')\n",
    "df_usergrid = pd.read_csv('./data/usergrid.csv')"
   ]
  },
  {
   "cell_type": "code",
   "execution_count": 5,
   "metadata": {},
   "outputs": [],
   "source": [
    "dataset_arr = [df_appceleratorstudio,\n",
    "        df_aptanastudio,\n",
    "        df_bamboo,\n",
    "        df_clover,\n",
    "        df_datamanagement,\n",
    "        df_duracloud,\n",
    "        df_jirasoftware,\n",
    "        df_mesos,\n",
    "        df_titanium,\n",
    "        df_usergrid]"
   ]
  },
  {
   "cell_type": "code",
   "execution_count": 6,
   "metadata": {},
   "outputs": [
    {
     "data": {
      "text/plain": [
       "(12599, 12599)"
      ]
     },
     "execution_count": 6,
     "metadata": {},
     "output_type": "execute_result"
    }
   ],
   "source": [
    "#get union of datasets\n",
    "text, labels = make_dataset(dataset_arr)\n",
    "\n",
    "#create corpus\n",
    "corpus, labels = create_corpus(text, labels)\n",
    "len(corpus), len(labels)"
   ]
  },
  {
   "cell_type": "code",
   "execution_count": 7,
   "metadata": {},
   "outputs": [
    {
     "data": {
      "text/plain": [
       "16613"
      ]
     },
     "execution_count": 7,
     "metadata": {},
     "output_type": "execute_result"
    }
   ],
   "source": [
    "#create vocabulary\n",
    "vocab = create_vocab(corpus)\n",
    "len(vocab)"
   ]
  },
  {
   "cell_type": "code",
   "execution_count": 12,
   "metadata": {},
   "outputs": [
    {
     "data": {
      "text/html": [
       "<div>\n",
       "<style scoped>\n",
       "    .dataframe tbody tr th:only-of-type {\n",
       "        vertical-align: middle;\n",
       "    }\n",
       "\n",
       "    .dataframe tbody tr th {\n",
       "        vertical-align: top;\n",
       "    }\n",
       "\n",
       "    .dataframe thead th {\n",
       "        text-align: right;\n",
       "    }\n",
       "</style>\n",
       "<table border=\"1\" class=\"dataframe\">\n",
       "  <thead>\n",
       "    <tr style=\"text-align: right;\">\n",
       "      <th></th>\n",
       "      <th>600954</th>\n",
       "      <th>TLE</th>\n",
       "      <th>Add new tag HIL_TAG_ECM_ENI_BUS_STATE</th>\n",
       "      <th>&lt;p&gt;Until mid August&lt;/p&gt;\\r\\n\\r\\n&lt;p&gt;&amp;nbsp;&lt;/p&gt;\\r\\n\\r\\n&lt;p&gt;Define tag ID&lt;/p&gt;\\r\\n\\r\\n&lt;p&gt;#define HIL_TAG_ECM_ENI_BUS_STATE &amp;nbsp;&amp;lt;tbd&amp;gt;&lt;/p&gt;\\r\\n\\r\\n&lt;p&gt;&amp;nbsp;&lt;/p&gt;\\r\\n\\r\\n&lt;p&gt;typedef struct&lt;/p&gt;\\r\\n\\r\\n&lt;p&gt;{&lt;/p&gt;\\r\\n\\r\\n&lt;p&gt;&amp;nbsp; /* &lt;span style=\"background:yellow;\"&gt;Target bus state for ENI files on ChannelInit&lt;/span&gt; */&lt;/p&gt;\\r\\n\\r\\n&lt;p&gt;&amp;nbsp; uint32_t ulTargetBusState;&lt;/p&gt;\\r\\n\\r\\n&lt;p&gt;} HIL_TAG_ECM_ENI_BUS_STATE_DATA_T;&lt;/p&gt;\\r\\n\\r\\n&lt;p&gt;&amp;nbsp;&lt;/p&gt;\\r\\n\\r\\n&lt;p&gt;typedef struct&lt;/p&gt;\\r\\n\\r\\n&lt;p&gt;{&lt;/p&gt;\\r\\n\\r\\n&lt;p&gt;&amp;nbsp; HIL_TAG_HEADER_T&amp;nbsp;&amp;nbsp;&amp;nbsp;&amp;nbsp;&amp;nbsp;&amp;nbsp;&amp;nbsp;&amp;nbsp;&amp;nbsp;&amp;nbsp;&amp;nbsp; tHeader;&lt;/p&gt;\\r\\n\\r\\n&lt;p&gt;&amp;nbsp; HIL_TAG_ECM_ENI_BUS_STATE_DATA_T tData;&lt;/p&gt;\\r\\n\\r\\n&lt;p&gt;} HIL_TAG_ECM_ENI_BUS_STATE_T;&lt;/p&gt;\\r\\n\\r\\n&lt;p&gt;&amp;nbsp;&lt;/p&gt;\\r\\n\\r\\n&lt;p&gt;#define HIL_TAG_ECM_ENI_BUS_STATE_&lt;span style=\"background:yellow;\"&gt;OFF 0&lt;/span&gt;&lt;/p&gt;\\r\\n\\r\\n&lt;p&gt;#define HIL_TAG_ECM_ENI_BUS_STATE_&lt;span style=\"background:yellow;\"&gt;ON 1&lt;/span&gt;&lt;/p&gt;\\r\\n\\r\\n&lt;p&gt;&amp;nbsp;&lt;/p&gt;\\r\\n</th>\n",
       "      <th>Unnamed: 4</th>\n",
       "    </tr>\n",
       "  </thead>\n",
       "  <tbody>\n",
       "    <tr>\n",
       "      <th>0</th>\n",
       "      <td>546102</td>\n",
       "      <td>TLE</td>\n",
       "      <td>Win 10 after installation, there is only an un...</td>\n",
       "      <td>&lt;p&gt;Win 10 after installation, there is only an...</td>\n",
       "      <td>NaN</td>\n",
       "    </tr>\n",
       "    <tr>\n",
       "      <th>1</th>\n",
       "      <td>546005</td>\n",
       "      <td>TLE</td>\n",
       "      <td>Correct program version in the manual</td>\n",
       "      <td>&lt;p&gt;The manual currently refers to V1.2 of the ...</td>\n",
       "      <td>NaN</td>\n",
       "    </tr>\n",
       "    <tr>\n",
       "      <th>2</th>\n",
       "      <td>546003</td>\n",
       "      <td>TLE</td>\n",
       "      <td>Correct program menu link to manual</td>\n",
       "      <td>&lt;p&gt;Correct the file name of the manual (PDF) i...</td>\n",
       "      <td>NaN</td>\n",
       "    </tr>\n",
       "    <tr>\n",
       "      <th>3</th>\n",
       "      <td>524365</td>\n",
       "      <td>TLE</td>\n",
       "      <td>Desktop shortcut is installed for admin user</td>\n",
       "      <td>&lt;p&gt;If you install the program as a standard us...</td>\n",
       "      <td>NaN</td>\n",
       "    </tr>\n",
       "    <tr>\n",
       "      <th>4</th>\n",
       "      <td>524364</td>\n",
       "      <td>TLE</td>\n",
       "      <td>Number input fields may allow you to input val...</td>\n",
       "      <td>&lt;p&gt;Due to the input/input checking method used...</td>\n",
       "      <td>NaN</td>\n",
       "    </tr>\n",
       "  </tbody>\n",
       "</table>\n",
       "</div>"
      ],
      "text/plain": [
       "   600954  TLE            Add new tag HIL_TAG_ECM_ENI_BUS_STATE    \\\n",
       "0  546102  TLE  Win 10 after installation, there is only an un...   \n",
       "1  546005  TLE              Correct program version in the manual   \n",
       "2  546003  TLE               Correct program menu link to manual    \n",
       "3  524365  TLE       Desktop shortcut is installed for admin user   \n",
       "4  524364  TLE  Number input fields may allow you to input val...   \n",
       "\n",
       "  <p>Until mid August</p>\\r\\n\\r\\n<p>&nbsp;</p>\\r\\n\\r\\n<p>Define tag ID</p>\\r\\n\\r\\n<p>#define HIL_TAG_ECM_ENI_BUS_STATE &nbsp;&lt;tbd&gt;</p>\\r\\n\\r\\n<p>&nbsp;</p>\\r\\n\\r\\n<p>typedef struct</p>\\r\\n\\r\\n<p>{</p>\\r\\n\\r\\n<p>&nbsp; /* <span style=\"background:yellow;\">Target bus state for ENI files on ChannelInit</span> */</p>\\r\\n\\r\\n<p>&nbsp; uint32_t ulTargetBusState;</p>\\r\\n\\r\\n<p>} HIL_TAG_ECM_ENI_BUS_STATE_DATA_T;</p>\\r\\n\\r\\n<p>&nbsp;</p>\\r\\n\\r\\n<p>typedef struct</p>\\r\\n\\r\\n<p>{</p>\\r\\n\\r\\n<p>&nbsp; HIL_TAG_HEADER_T&nbsp;&nbsp;&nbsp;&nbsp;&nbsp;&nbsp;&nbsp;&nbsp;&nbsp;&nbsp;&nbsp; tHeader;</p>\\r\\n\\r\\n<p>&nbsp; HIL_TAG_ECM_ENI_BUS_STATE_DATA_T tData;</p>\\r\\n\\r\\n<p>} HIL_TAG_ECM_ENI_BUS_STATE_T;</p>\\r\\n\\r\\n<p>&nbsp;</p>\\r\\n\\r\\n<p>#define HIL_TAG_ECM_ENI_BUS_STATE_<span style=\"background:yellow;\">OFF 0</span></p>\\r\\n\\r\\n<p>#define HIL_TAG_ECM_ENI_BUS_STATE_<span style=\"background:yellow;\">ON 1</span></p>\\r\\n\\r\\n<p>&nbsp;</p>\\r\\n  \\\n",
       "0  <p>Win 10 after installation, there is only an...                                                                                                                                                                                                                                                                                                                                                                                                                                                                                                                                                                                                                                                                                                                                                                                                                                                                                                                      \n",
       "1  <p>The manual currently refers to V1.2 of the ...                                                                                                                                                                                                                                                                                                                                                                                                                                                                                                                                                                                                                                                                                                                                                                                                                                                                                                                      \n",
       "2  <p>Correct the file name of the manual (PDF) i...                                                                                                                                                                                                                                                                                                                                                                                                                                                                                                                                                                                                                                                                                                                                                                                                                                                                                                                      \n",
       "3  <p>If you install the program as a standard us...                                                                                                                                                                                                                                                                                                                                                                                                                                                                                                                                                                                                                                                                                                                                                                                                                                                                                                                      \n",
       "4  <p>Due to the input/input checking method used...                                                                                                                                                                                                                                                                                                                                                                                                                                                                                                                                                                                                                                                                                                                                                                                                                                                                                                                      \n",
       "\n",
       "   Unnamed: 4  \n",
       "0         NaN  \n",
       "1         NaN  \n",
       "2         NaN  \n",
       "3         NaN  \n",
       "4         NaN  "
      ]
     },
     "execution_count": 12,
     "metadata": {},
     "output_type": "execute_result"
    }
   ],
   "source": [
    "df_hsc = pd.read_csv('./data/HSC_unl_raw.csv')\n",
    "df_hsc.head()"
   ]
  },
  {
   "cell_type": "code",
   "execution_count": 38,
   "metadata": {},
   "outputs": [
    {
     "data": {
      "text/html": [
       "<div>\n",
       "<style scoped>\n",
       "    .dataframe tbody tr th:only-of-type {\n",
       "        vertical-align: middle;\n",
       "    }\n",
       "\n",
       "    .dataframe tbody tr th {\n",
       "        vertical-align: top;\n",
       "    }\n",
       "\n",
       "    .dataframe thead th {\n",
       "        text-align: right;\n",
       "    }\n",
       "</style>\n",
       "<table border=\"1\" class=\"dataframe\">\n",
       "  <thead>\n",
       "    <tr style=\"text-align: right;\">\n",
       "      <th></th>\n",
       "      <th>issuekey</th>\n",
       "      <th>title</th>\n",
       "      <th>description</th>\n",
       "      <th>storypoint</th>\n",
       "    </tr>\n",
       "  </thead>\n",
       "  <tbody>\n",
       "    <tr>\n",
       "      <th>0</th>\n",
       "      <td>TISTUD-6</td>\n",
       "      <td>Add CA against object literals in function inv...</td>\n",
       "      <td>{html}&lt;div&gt;&lt;p&gt;The idea here is that if our met...</td>\n",
       "      <td>1</td>\n",
       "    </tr>\n",
       "    <tr>\n",
       "      <th>1</th>\n",
       "      <td>TISTUD-9</td>\n",
       "      <td>Update branding for Appcelerator plugin to App...</td>\n",
       "      <td>{html}&lt;div&gt;&lt;p&gt;At least fix feature icons, asso...</td>\n",
       "      <td>1</td>\n",
       "    </tr>\n",
       "    <tr>\n",
       "      <th>2</th>\n",
       "      <td>TISTUD-11</td>\n",
       "      <td>Create new JSON schema for SDK team</td>\n",
       "      <td>{html}&lt;div&gt;&lt;p&gt;Create JSON schema containing pr...</td>\n",
       "      <td>1</td>\n",
       "    </tr>\n",
       "    <tr>\n",
       "      <th>3</th>\n",
       "      <td>TISTUD-13</td>\n",
       "      <td>Create Project References Property Page</td>\n",
       "      <td>{html}&lt;div&gt;&lt;p&gt;Create property page for project...</td>\n",
       "      <td>1</td>\n",
       "    </tr>\n",
       "    <tr>\n",
       "      <th>4</th>\n",
       "      <td>TISTUD-16</td>\n",
       "      <td>New Desktop Project Wizard</td>\n",
       "      <td>{html}&lt;div&gt;&lt;p&gt;Desktop (need to convert existin...</td>\n",
       "      <td>1</td>\n",
       "    </tr>\n",
       "  </tbody>\n",
       "</table>\n",
       "</div>"
      ],
      "text/plain": [
       "    issuekey                                              title  \\\n",
       "0   TISTUD-6  Add CA against object literals in function inv...   \n",
       "1   TISTUD-9  Update branding for Appcelerator plugin to App...   \n",
       "2  TISTUD-11                Create new JSON schema for SDK team   \n",
       "3  TISTUD-13            Create Project References Property Page   \n",
       "4  TISTUD-16                         New Desktop Project Wizard   \n",
       "\n",
       "                                         description  storypoint  \n",
       "0  {html}<div><p>The idea here is that if our met...           1  \n",
       "1  {html}<div><p>At least fix feature icons, asso...           1  \n",
       "2  {html}<div><p>Create JSON schema containing pr...           1  \n",
       "3  {html}<div><p>Create property page for project...           1  \n",
       "4  {html}<div><p>Desktop (need to convert existin...           1  "
      ]
     },
     "execution_count": 38,
     "metadata": {},
     "output_type": "execute_result"
    }
   ],
   "source": [
    "df_appceleratorstudio.head()"
   ]
  },
  {
   "cell_type": "markdown",
   "metadata": {},
   "source": [
    "Goal is to change df_appceleratorstudio and other datasets to be like df_hsc."
   ]
  },
  {
   "cell_type": "code",
   "execution_count": 39,
   "metadata": {
    "scrolled": true
   },
   "outputs": [
    {
     "data": {
      "text/html": [
       "<div>\n",
       "<style scoped>\n",
       "    .dataframe tbody tr th:only-of-type {\n",
       "        vertical-align: middle;\n",
       "    }\n",
       "\n",
       "    .dataframe tbody tr th {\n",
       "        vertical-align: top;\n",
       "    }\n",
       "\n",
       "    .dataframe thead th {\n",
       "        text-align: right;\n",
       "    }\n",
       "</style>\n",
       "<table border=\"1\" class=\"dataframe\">\n",
       "  <thead>\n",
       "    <tr style=\"text-align: right;\">\n",
       "      <th></th>\n",
       "      <th>issuekey</th>\n",
       "      <th>title</th>\n",
       "      <th>description</th>\n",
       "      <th>storypoint</th>\n",
       "      <th>number</th>\n",
       "    </tr>\n",
       "  </thead>\n",
       "  <tbody>\n",
       "    <tr>\n",
       "      <th>0</th>\n",
       "      <td>TISTUD</td>\n",
       "      <td>Add CA against object literals in function inv...</td>\n",
       "      <td>{html}&lt;div&gt;&lt;p&gt;The idea here is that if our met...</td>\n",
       "      <td>1</td>\n",
       "      <td>6</td>\n",
       "    </tr>\n",
       "    <tr>\n",
       "      <th>1</th>\n",
       "      <td>TISTUD</td>\n",
       "      <td>Update branding for Appcelerator plugin to App...</td>\n",
       "      <td>{html}&lt;div&gt;&lt;p&gt;At least fix feature icons, asso...</td>\n",
       "      <td>1</td>\n",
       "      <td>9</td>\n",
       "    </tr>\n",
       "    <tr>\n",
       "      <th>2</th>\n",
       "      <td>TISTUD</td>\n",
       "      <td>Create new JSON schema for SDK team</td>\n",
       "      <td>{html}&lt;div&gt;&lt;p&gt;Create JSON schema containing pr...</td>\n",
       "      <td>1</td>\n",
       "      <td>11</td>\n",
       "    </tr>\n",
       "    <tr>\n",
       "      <th>3</th>\n",
       "      <td>TISTUD</td>\n",
       "      <td>Create Project References Property Page</td>\n",
       "      <td>{html}&lt;div&gt;&lt;p&gt;Create property page for project...</td>\n",
       "      <td>1</td>\n",
       "      <td>13</td>\n",
       "    </tr>\n",
       "    <tr>\n",
       "      <th>4</th>\n",
       "      <td>TISTUD</td>\n",
       "      <td>New Desktop Project Wizard</td>\n",
       "      <td>{html}&lt;div&gt;&lt;p&gt;Desktop (need to convert existin...</td>\n",
       "      <td>1</td>\n",
       "      <td>16</td>\n",
       "    </tr>\n",
       "  </tbody>\n",
       "</table>\n",
       "</div>"
      ],
      "text/plain": [
       "  issuekey                                              title  \\\n",
       "0   TISTUD  Add CA against object literals in function inv...   \n",
       "1   TISTUD  Update branding for Appcelerator plugin to App...   \n",
       "2   TISTUD                Create new JSON schema for SDK team   \n",
       "3   TISTUD            Create Project References Property Page   \n",
       "4   TISTUD                         New Desktop Project Wizard   \n",
       "\n",
       "                                         description  storypoint number  \n",
       "0  {html}<div><p>The idea here is that if our met...           1      6  \n",
       "1  {html}<div><p>At least fix feature icons, asso...           1      9  \n",
       "2  {html}<div><p>Create JSON schema containing pr...           1     11  \n",
       "3  {html}<div><p>Create property page for project...           1     13  \n",
       "4  {html}<div><p>Desktop (need to convert existin...           1     16  "
      ]
     },
     "execution_count": 39,
     "metadata": {},
     "output_type": "execute_result"
    }
   ],
   "source": [
    "# split 'issuekey' to to columns\n",
    "df_appceleratorstudio[['issuekey', 'number']] = df_appceleratorstudio['issuekey'].str.split('-', expand=True)\n",
    "df_appceleratorstudio.head()"
   ]
  },
  {
   "cell_type": "code",
   "execution_count": 41,
   "metadata": {
    "scrolled": false
   },
   "outputs": [
    {
     "data": {
      "text/html": [
       "<div>\n",
       "<style scoped>\n",
       "    .dataframe tbody tr th:only-of-type {\n",
       "        vertical-align: middle;\n",
       "    }\n",
       "\n",
       "    .dataframe tbody tr th {\n",
       "        vertical-align: top;\n",
       "    }\n",
       "\n",
       "    .dataframe thead th {\n",
       "        text-align: right;\n",
       "    }\n",
       "</style>\n",
       "<table border=\"1\" class=\"dataframe\">\n",
       "  <thead>\n",
       "    <tr style=\"text-align: right;\">\n",
       "      <th></th>\n",
       "      <th>number</th>\n",
       "      <th>issuekey</th>\n",
       "      <th>title</th>\n",
       "      <th>description</th>\n",
       "      <th>storypoint</th>\n",
       "    </tr>\n",
       "  </thead>\n",
       "  <tbody>\n",
       "    <tr>\n",
       "      <th>0</th>\n",
       "      <td>6</td>\n",
       "      <td>TISTUD</td>\n",
       "      <td>Add CA against object literals in function inv...</td>\n",
       "      <td>{html}&lt;div&gt;&lt;p&gt;The idea here is that if our met...</td>\n",
       "      <td>1</td>\n",
       "    </tr>\n",
       "    <tr>\n",
       "      <th>1</th>\n",
       "      <td>9</td>\n",
       "      <td>TISTUD</td>\n",
       "      <td>Update branding for Appcelerator plugin to App...</td>\n",
       "      <td>{html}&lt;div&gt;&lt;p&gt;At least fix feature icons, asso...</td>\n",
       "      <td>1</td>\n",
       "    </tr>\n",
       "    <tr>\n",
       "      <th>2</th>\n",
       "      <td>11</td>\n",
       "      <td>TISTUD</td>\n",
       "      <td>Create new JSON schema for SDK team</td>\n",
       "      <td>{html}&lt;div&gt;&lt;p&gt;Create JSON schema containing pr...</td>\n",
       "      <td>1</td>\n",
       "    </tr>\n",
       "    <tr>\n",
       "      <th>3</th>\n",
       "      <td>13</td>\n",
       "      <td>TISTUD</td>\n",
       "      <td>Create Project References Property Page</td>\n",
       "      <td>{html}&lt;div&gt;&lt;p&gt;Create property page for project...</td>\n",
       "      <td>1</td>\n",
       "    </tr>\n",
       "    <tr>\n",
       "      <th>4</th>\n",
       "      <td>16</td>\n",
       "      <td>TISTUD</td>\n",
       "      <td>New Desktop Project Wizard</td>\n",
       "      <td>{html}&lt;div&gt;&lt;p&gt;Desktop (need to convert existin...</td>\n",
       "      <td>1</td>\n",
       "    </tr>\n",
       "  </tbody>\n",
       "</table>\n",
       "</div>"
      ],
      "text/plain": [
       "  number issuekey                                              title  \\\n",
       "0      6   TISTUD  Add CA against object literals in function inv...   \n",
       "1      9   TISTUD  Update branding for Appcelerator plugin to App...   \n",
       "2     11   TISTUD                Create new JSON schema for SDK team   \n",
       "3     13   TISTUD            Create Project References Property Page   \n",
       "4     16   TISTUD                         New Desktop Project Wizard   \n",
       "\n",
       "                                         description  storypoint  \n",
       "0  {html}<div><p>The idea here is that if our met...           1  \n",
       "1  {html}<div><p>At least fix feature icons, asso...           1  \n",
       "2  {html}<div><p>Create JSON schema containing pr...           1  \n",
       "3  {html}<div><p>Create property page for project...           1  \n",
       "4  {html}<div><p>Desktop (need to convert existin...           1  "
      ]
     },
     "execution_count": 41,
     "metadata": {},
     "output_type": "execute_result"
    }
   ],
   "source": [
    "# change column order of 'number'\n",
    "df_appceleratorstudio = df_appceleratorstudio[['number', 'issuekey', 'title', 'description', 'storypoint']]\n",
    "df_appceleratorstudio.head()"
   ]
  },
  {
   "cell_type": "code",
   "execution_count": 51,
   "metadata": {},
   "outputs": [
    {
     "data": {
      "text/html": [
       "<div>\n",
       "<style scoped>\n",
       "    .dataframe tbody tr th:only-of-type {\n",
       "        vertical-align: middle;\n",
       "    }\n",
       "\n",
       "    .dataframe tbody tr th {\n",
       "        vertical-align: top;\n",
       "    }\n",
       "\n",
       "    .dataframe thead th {\n",
       "        text-align: right;\n",
       "    }\n",
       "</style>\n",
       "<table border=\"1\" class=\"dataframe\">\n",
       "  <thead>\n",
       "    <tr style=\"text-align: right;\">\n",
       "      <th></th>\n",
       "      <th>number</th>\n",
       "      <th>issuekey</th>\n",
       "      <th>title</th>\n",
       "      <th>description</th>\n",
       "      <th>storypoint</th>\n",
       "    </tr>\n",
       "  </thead>\n",
       "  <tbody>\n",
       "    <tr>\n",
       "      <th>0</th>\n",
       "      <td>6</td>\n",
       "      <td>TISTUD</td>\n",
       "      <td>Add CA against object literals in function inv...</td>\n",
       "      <td>{html}&lt;div&gt;&lt;p&gt;The idea here is that if our met...</td>\n",
       "      <td>1</td>\n",
       "    </tr>\n",
       "    <tr>\n",
       "      <th>1</th>\n",
       "      <td>9</td>\n",
       "      <td>TISTUD</td>\n",
       "      <td>Update branding for Appcelerator plugin to App...</td>\n",
       "      <td>{html}&lt;div&gt;&lt;p&gt;At least fix feature icons, asso...</td>\n",
       "      <td>1</td>\n",
       "    </tr>\n",
       "    <tr>\n",
       "      <th>2</th>\n",
       "      <td>11</td>\n",
       "      <td>TISTUD</td>\n",
       "      <td>Create new JSON schema for SDK team</td>\n",
       "      <td>{html}&lt;div&gt;&lt;p&gt;Create JSON schema containing pr...</td>\n",
       "      <td>1</td>\n",
       "    </tr>\n",
       "    <tr>\n",
       "      <th>3</th>\n",
       "      <td>13</td>\n",
       "      <td>TISTUD</td>\n",
       "      <td>Create Project References Property Page</td>\n",
       "      <td>{html}&lt;div&gt;&lt;p&gt;Create property page for project...</td>\n",
       "      <td>1</td>\n",
       "    </tr>\n",
       "    <tr>\n",
       "      <th>4</th>\n",
       "      <td>16</td>\n",
       "      <td>TISTUD</td>\n",
       "      <td>New Desktop Project Wizard</td>\n",
       "      <td>{html}&lt;div&gt;&lt;p&gt;Desktop (need to convert existin...</td>\n",
       "      <td>1</td>\n",
       "    </tr>\n",
       "  </tbody>\n",
       "</table>\n",
       "</div>"
      ],
      "text/plain": [
       "  number issuekey                                              title  \\\n",
       "0      6   TISTUD  Add CA against object literals in function inv...   \n",
       "1      9   TISTUD  Update branding for Appcelerator plugin to App...   \n",
       "2     11   TISTUD                Create new JSON schema for SDK team   \n",
       "3     13   TISTUD            Create Project References Property Page   \n",
       "4     16   TISTUD                         New Desktop Project Wizard   \n",
       "\n",
       "                                         description  storypoint  \n",
       "0  {html}<div><p>The idea here is that if our met...           1  \n",
       "1  {html}<div><p>At least fix feature icons, asso...           1  \n",
       "2  {html}<div><p>Create JSON schema containing pr...           1  \n",
       "3  {html}<div><p>Create property page for project...           1  \n",
       "4  {html}<div><p>Desktop (need to convert existin...           1  "
      ]
     },
     "execution_count": 51,
     "metadata": {},
     "output_type": "execute_result"
    }
   ],
   "source": [
    "# make valuse of 'storypoint' column all 1, choose exp. that is not valid timespent\n",
    "df_appceleratorstudio['storypoint'] = 1\n",
    "df_appceleratorstudio.head()"
   ]
  },
  {
   "cell_type": "code",
   "execution_count": 52,
   "metadata": {},
   "outputs": [],
   "source": [
    "# save without header\n",
    "df_appceleratorstudio.to_csv('./data/formated/appceleratorstudio_unl_raw.csv', header=False)"
   ]
  },
  {
   "cell_type": "code",
   "execution_count": 77,
   "metadata": {},
   "outputs": [],
   "source": [
    "def format_ds(ds_name):\n",
    "    #read dataset\n",
    "    df = pd.read_csv('./data/' + ds_name + '.csv')\n",
    "    # split 'issuekey' to to columns\n",
    "    df[['issuekey', 'number']] = df['issuekey'].str.split('-', expand=True)\n",
    "    # change column order of 'number'\n",
    "    df = df[['number', 'issuekey', 'title', 'description', 'storypoint']]\n",
    "    # make valuse of 'storypoint' column all 1, choose one that is not a valid timespent\n",
    "    df['storypoint'] = 1\n",
    "    # make folder\n",
    "    folder_path = './data/formated/' + ds_name\n",
    "    if not os.path.exists(folder_path):\n",
    "        os.makedirs(folder_path)\n",
    "    # save without header\n",
    "    df.to_csv(folder_path + '/' + ds_name + '_unl_raw.csv', header=False)"
   ]
  },
  {
   "cell_type": "code",
   "execution_count": 78,
   "metadata": {},
   "outputs": [],
   "source": [
    "dataset_names = ['appceleratorstudio', 'aptanastudio', 'bamboo', 'clover', \n",
    "                 'datamanagement', 'duracloud', 'jirasoftware', 'mesos', 'titanium', 'usergrid']"
   ]
  },
  {
   "cell_type": "code",
   "execution_count": 79,
   "metadata": {},
   "outputs": [],
   "source": [
    "for ds_name in dataset_names:\n",
    "    format_ds(ds_name)"
   ]
  },
  {
   "cell_type": "code",
   "execution_count": null,
   "metadata": {},
   "outputs": [],
   "source": []
  }
 ],
 "metadata": {
  "kernelspec": {
   "display_name": "Python 3",
   "language": "python",
   "name": "python3"
  },
  "language_info": {
   "codemirror_mode": {
    "name": "ipython",
    "version": 3
   },
   "file_extension": ".py",
   "mimetype": "text/x-python",
   "name": "python",
   "nbconvert_exporter": "python",
   "pygments_lexer": "ipython3",
   "version": "3.5.2"
  }
 },
 "nbformat": 4,
 "nbformat_minor": 2
}
